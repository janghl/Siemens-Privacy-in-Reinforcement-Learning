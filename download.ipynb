{
 "cells": [
  {
   "cell_type": "code",
   "execution_count": null,
   "metadata": {},
   "outputs": [],
   "source": [
    "import requests\n",
    "import zipfile\n",
    "import io\n",
    "\n",
    "url = \"http://oasis.caiso.com/oasisapi/SingleZip\"\n",
    "extract_directory = \"\"\n",
    "params = {\n",
    "    \"resultformat\": \"6\",\n",
    "    \"queryname\": \"SLD_FCST\",\n",
    "    \"version\": \"1\",\n",
    "    \"startdatetime\": \"20240120T08:00-0000\",\n",
    "    \"enddatetime\": \"20240219T08:00-0000\"\n",
    "}\n",
    "\n",
    "response = requests.get(url, params=params)\n",
    "\n",
    "if response.status_code == 200:\n",
    "    data = response.content\n",
    "\n",
    "    zip_data = io.BytesIO(data)\n",
    "    with zipfile.ZipFile(zip_data, 'r') as zip_ref:\n",
    "        file_list = zip_ref.namelist()\n",
    "        for file_name in file_list:\n",
    "            file_data = zip_ref.read(file_name)\n",
    "            with open(file_name[:8]+\".csv\", 'wb') as file:\n",
    "                file.write(file_data)\n",
    "            \n",
    "else:\n",
    "    print(\"Request failed with status code:\", response.status_code)"
   ]
  }
 ],
 "metadata": {
  "language_info": {
   "name": "python"
  }
 },
 "nbformat": 4,
 "nbformat_minor": 2
}
