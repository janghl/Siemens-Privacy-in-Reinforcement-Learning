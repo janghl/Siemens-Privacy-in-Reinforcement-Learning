{
 "cells": [
  {
   "cell_type": "code",
   "execution_count": 84,
   "metadata": {},
   "outputs": [],
   "source": [
    "import requests\n",
    "import zipfile\n",
    "import io\n",
    "import yaml\n",
    "\n",
    "with open(\"config.yaml\") as file:\n",
    "    yamlFile = yaml.safe_load(file)\n",
    "\n",
    "url = \"http://oasis.caiso.com/oasisapi/SingleZip\"\n",
    "extract_directory = \"\"\n",
    "params = {\n",
    "    \"resultformat\": \"6\",\n",
    "    \"queryname\": yamlFile[\"market\"],\n",
    "    \"market_run_id\": yamlFile[\"market_run_id\"],\n",
    "    \"execution_type\": yamlFile[\"execution_type\"],\n",
    "    \"version\": \"1\",\n",
    "    \"startdatetime\": \"20240218T08:00-0000\",\n",
    "    \"enddatetime\": \"20240219T08:00-0000\"\n",
    "}\n",
    "\n",
    "response = requests.get(url, params=params)\n"
   ]
  },
  {
   "cell_type": "code",
   "execution_count": 85,
   "metadata": {},
   "outputs": [
    {
     "name": "stdout",
     "output_type": "stream",
     "text": [
      "['20240218_20240219_SLD_REN_FCST_RTPD_20240308_08_01_50_v1.csv']\n"
     ]
    }
   ],
   "source": [
    "\n",
    "if response.status_code == 200:\n",
    "    data = response.content\n",
    "\n",
    "    zip_data = io.BytesIO(data)\n",
    "    csv = None\n",
    "    with zipfile.ZipFile(zip_data, 'r') as zip_ref:\n",
    "        file_list = zip_ref.namelist()\n",
    "        print(file_list)\n",
    "        for file_name in file_list:\n",
    "            csv = file_name[:-25]+\".csv\"\n",
    "            file_data = zip_ref.read(file_name)\n",
    "            with open(file_name[:-25]+\".csv\", 'wb') as file:\n",
    "                file.write(file_data)\n",
    "            \n",
    "else:\n",
    "    print(\"Request failed with status code:\", response.status_code)"
   ]
  },
  {
   "cell_type": "code",
   "execution_count": 105,
   "metadata": {},
   "outputs": [
    {
     "name": "stdout",
     "output_type": "stream",
     "text": [
      "(576, 14)\n",
      "['OPR_DT', 'OPR_HR', 'OPR_INTERVAL', 'INTERVALSTARTTIME_GMT', 'INTERVALENDTIME_GMT', 'TRADING_HUB', 'RENEWABLE_TYPE', 'LABEL', 'XML_DATA_ITEM', 'MARKET_RUN_ID_POS', 'RENEW_POS', 'MW', 'MARKET_RUN_ID', 'GROUP']\n",
      "(192, 14)\n"
     ]
    }
   ],
   "source": [
    "import pandas as pd\n",
    "import numpy as np\n",
    "\n",
    "data = pd.read_csv(csv)\n",
    "# data = np.array(data)\n",
    "print(data.shape)\n",
    "print(data.columns.tolist())\n",
    "\n",
    "zone_id = yamlFile[\"zone_id\"]\n",
    "data_query = data.query(f'TRADING_HUB == \"{zone_id}\"')\n",
    "print(data_query.shape)"
   ]
  }
 ],
 "metadata": {
  "kernelspec": {
   "display_name": "base",
   "language": "python",
   "name": "python3"
  },
  "language_info": {
   "codemirror_mode": {
    "name": "ipython",
    "version": 3
   },
   "file_extension": ".py",
   "mimetype": "text/x-python",
   "name": "python",
   "nbconvert_exporter": "python",
   "pygments_lexer": "ipython3",
   "version": "3.11.5"
  }
 },
 "nbformat": 4,
 "nbformat_minor": 2
}
